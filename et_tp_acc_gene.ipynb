{
 "cells": [
  {
   "cell_type": "code",
   "execution_count": 1,
   "id": "martial-convenience",
   "metadata": {},
   "outputs": [],
   "source": [
    "import pandas as pd\n",
    "import numpy as np\n",
    "import matplotlib.pyplot as plt\n",
    "from sklearn.preprocessing import StandardScaler"
   ]
  },
  {
   "cell_type": "code",
   "execution_count": 2,
   "id": "bronze-background",
   "metadata": {},
   "outputs": [
    {
     "data": {
      "text/html": [
       "<div>\n",
       "<style scoped>\n",
       "    .dataframe tbody tr th:only-of-type {\n",
       "        vertical-align: middle;\n",
       "    }\n",
       "\n",
       "    .dataframe tbody tr th {\n",
       "        vertical-align: top;\n",
       "    }\n",
       "\n",
       "    .dataframe thead th {\n",
       "        text-align: right;\n",
       "    }\n",
       "</style>\n",
       "<table border=\"1\" class=\"dataframe\">\n",
       "  <thead>\n",
       "    <tr style=\"text-align: right;\">\n",
       "      <th></th>\n",
       "      <th>f.1</th>\n",
       "      <th>f.2</th>\n",
       "      <th>f.3</th>\n",
       "      <th>f.4</th>\n",
       "      <th>f.5</th>\n",
       "      <th>f.6</th>\n",
       "      <th>f.7</th>\n",
       "      <th>f.8</th>\n",
       "      <th>f.9</th>\n",
       "      <th>f.10</th>\n",
       "      <th>...</th>\n",
       "      <th>f.12</th>\n",
       "      <th>f.13</th>\n",
       "      <th>f.14</th>\n",
       "      <th>f.15</th>\n",
       "      <th>f.16</th>\n",
       "      <th>f.17</th>\n",
       "      <th>f.18</th>\n",
       "      <th>f.19</th>\n",
       "      <th>f.20</th>\n",
       "      <th>class</th>\n",
       "    </tr>\n",
       "  </thead>\n",
       "  <tbody>\n",
       "    <tr>\n",
       "      <th>4913</th>\n",
       "      <td>0.110895</td>\n",
       "      <td>0.017510</td>\n",
       "      <td>0.038911</td>\n",
       "      <td>0.021401</td>\n",
       "      <td>0.070039</td>\n",
       "      <td>0.112840</td>\n",
       "      <td>0.019455</td>\n",
       "      <td>0.046693</td>\n",
       "      <td>0.023346</td>\n",
       "      <td>0.101167</td>\n",
       "      <td>...</td>\n",
       "      <td>0.033074</td>\n",
       "      <td>0.029183</td>\n",
       "      <td>0.015564</td>\n",
       "      <td>0.036965</td>\n",
       "      <td>0.097276</td>\n",
       "      <td>0.071984</td>\n",
       "      <td>0.064202</td>\n",
       "      <td>0.025292</td>\n",
       "      <td>0.040856</td>\n",
       "      <td>no</td>\n",
       "    </tr>\n",
       "    <tr>\n",
       "      <th>4914</th>\n",
       "      <td>0.057803</td>\n",
       "      <td>0.008671</td>\n",
       "      <td>0.063584</td>\n",
       "      <td>0.066474</td>\n",
       "      <td>0.028902</td>\n",
       "      <td>0.101156</td>\n",
       "      <td>0.017341</td>\n",
       "      <td>0.049133</td>\n",
       "      <td>0.057803</td>\n",
       "      <td>0.092486</td>\n",
       "      <td>...</td>\n",
       "      <td>0.049133</td>\n",
       "      <td>0.034682</td>\n",
       "      <td>0.043353</td>\n",
       "      <td>0.086705</td>\n",
       "      <td>0.086705</td>\n",
       "      <td>0.054913</td>\n",
       "      <td>0.066474</td>\n",
       "      <td>0.005780</td>\n",
       "      <td>0.008671</td>\n",
       "      <td>no</td>\n",
       "    </tr>\n",
       "    <tr>\n",
       "      <th>4915</th>\n",
       "      <td>0.082915</td>\n",
       "      <td>0.015075</td>\n",
       "      <td>0.042714</td>\n",
       "      <td>0.070352</td>\n",
       "      <td>0.025126</td>\n",
       "      <td>0.077889</td>\n",
       "      <td>0.087940</td>\n",
       "      <td>0.092965</td>\n",
       "      <td>0.040201</td>\n",
       "      <td>0.092965</td>\n",
       "      <td>...</td>\n",
       "      <td>0.035176</td>\n",
       "      <td>0.015075</td>\n",
       "      <td>0.017588</td>\n",
       "      <td>0.035176</td>\n",
       "      <td>0.067839</td>\n",
       "      <td>0.045226</td>\n",
       "      <td>0.100503</td>\n",
       "      <td>0.015075</td>\n",
       "      <td>0.015075</td>\n",
       "      <td>no</td>\n",
       "    </tr>\n",
       "    <tr>\n",
       "      <th>4916</th>\n",
       "      <td>0.071233</td>\n",
       "      <td>0.010959</td>\n",
       "      <td>0.038356</td>\n",
       "      <td>0.042466</td>\n",
       "      <td>0.056164</td>\n",
       "      <td>0.073973</td>\n",
       "      <td>0.017808</td>\n",
       "      <td>0.054795</td>\n",
       "      <td>0.043836</td>\n",
       "      <td>0.116438</td>\n",
       "      <td>...</td>\n",
       "      <td>0.031507</td>\n",
       "      <td>0.038356</td>\n",
       "      <td>0.023288</td>\n",
       "      <td>0.053425</td>\n",
       "      <td>0.113699</td>\n",
       "      <td>0.049315</td>\n",
       "      <td>0.068493</td>\n",
       "      <td>0.013699</td>\n",
       "      <td>0.041096</td>\n",
       "      <td>no</td>\n",
       "    </tr>\n",
       "    <tr>\n",
       "      <th>4917</th>\n",
       "      <td>0.076570</td>\n",
       "      <td>0.010720</td>\n",
       "      <td>0.075038</td>\n",
       "      <td>0.062787</td>\n",
       "      <td>0.052067</td>\n",
       "      <td>0.055130</td>\n",
       "      <td>0.012251</td>\n",
       "      <td>0.047473</td>\n",
       "      <td>0.056662</td>\n",
       "      <td>0.096478</td>\n",
       "      <td>...</td>\n",
       "      <td>0.039816</td>\n",
       "      <td>0.059724</td>\n",
       "      <td>0.044410</td>\n",
       "      <td>0.045942</td>\n",
       "      <td>0.104135</td>\n",
       "      <td>0.068913</td>\n",
       "      <td>0.041348</td>\n",
       "      <td>0.009188</td>\n",
       "      <td>0.021440</td>\n",
       "      <td>no</td>\n",
       "    </tr>\n",
       "  </tbody>\n",
       "</table>\n",
       "<p>5 rows × 21 columns</p>\n",
       "</div>"
      ],
      "text/plain": [
       "           f.1       f.2       f.3       f.4       f.5       f.6       f.7  \\\n",
       "4913  0.110895  0.017510  0.038911  0.021401  0.070039  0.112840  0.019455   \n",
       "4914  0.057803  0.008671  0.063584  0.066474  0.028902  0.101156  0.017341   \n",
       "4915  0.082915  0.015075  0.042714  0.070352  0.025126  0.077889  0.087940   \n",
       "4916  0.071233  0.010959  0.038356  0.042466  0.056164  0.073973  0.017808   \n",
       "4917  0.076570  0.010720  0.075038  0.062787  0.052067  0.055130  0.012251   \n",
       "\n",
       "           f.8       f.9      f.10  ...      f.12      f.13      f.14  \\\n",
       "4913  0.046693  0.023346  0.101167  ...  0.033074  0.029183  0.015564   \n",
       "4914  0.049133  0.057803  0.092486  ...  0.049133  0.034682  0.043353   \n",
       "4915  0.092965  0.040201  0.092965  ...  0.035176  0.015075  0.017588   \n",
       "4916  0.054795  0.043836  0.116438  ...  0.031507  0.038356  0.023288   \n",
       "4917  0.047473  0.056662  0.096478  ...  0.039816  0.059724  0.044410   \n",
       "\n",
       "          f.15      f.16      f.17      f.18      f.19      f.20  class  \n",
       "4913  0.036965  0.097276  0.071984  0.064202  0.025292  0.040856     no  \n",
       "4914  0.086705  0.086705  0.054913  0.066474  0.005780  0.008671     no  \n",
       "4915  0.035176  0.067839  0.045226  0.100503  0.015075  0.015075     no  \n",
       "4916  0.053425  0.113699  0.049315  0.068493  0.013699  0.041096     no  \n",
       "4917  0.045942  0.104135  0.068913  0.041348  0.009188  0.021440     no  \n",
       "\n",
       "[5 rows x 21 columns]"
      ]
     },
     "execution_count": 2,
     "metadata": {},
     "output_type": "execute_result"
    }
   ],
   "source": [
    "Train_Data = pd.read_csv(\"et_tp.AAC.train.csv\")\n",
    "Test_Data = pd.read_csv(\"et_tp.AAC.test.csv\")\n",
    "#labels = pd.read_csv(\"actual.csv\", index_col = 'patient')\n",
    "Train_Data.tail()"
   ]
  },
  {
   "cell_type": "code",
   "execution_count": 3,
   "id": "sustainable-providence",
   "metadata": {},
   "outputs": [
    {
     "data": {
      "text/html": [
       "<div>\n",
       "<style scoped>\n",
       "    .dataframe tbody tr th:only-of-type {\n",
       "        vertical-align: middle;\n",
       "    }\n",
       "\n",
       "    .dataframe tbody tr th {\n",
       "        vertical-align: top;\n",
       "    }\n",
       "\n",
       "    .dataframe thead th {\n",
       "        text-align: right;\n",
       "    }\n",
       "</style>\n",
       "<table border=\"1\" class=\"dataframe\">\n",
       "  <thead>\n",
       "    <tr style=\"text-align: right;\">\n",
       "      <th></th>\n",
       "      <th>f.1</th>\n",
       "      <th>f.2</th>\n",
       "      <th>f.3</th>\n",
       "      <th>f.4</th>\n",
       "      <th>f.5</th>\n",
       "      <th>f.6</th>\n",
       "      <th>f.7</th>\n",
       "      <th>f.8</th>\n",
       "      <th>f.9</th>\n",
       "      <th>f.10</th>\n",
       "      <th>...</th>\n",
       "      <th>f.12</th>\n",
       "      <th>f.13</th>\n",
       "      <th>f.14</th>\n",
       "      <th>f.15</th>\n",
       "      <th>f.16</th>\n",
       "      <th>f.17</th>\n",
       "      <th>f.18</th>\n",
       "      <th>f.19</th>\n",
       "      <th>f.20</th>\n",
       "      <th>class</th>\n",
       "    </tr>\n",
       "  </thead>\n",
       "  <tbody>\n",
       "    <tr>\n",
       "      <th>0</th>\n",
       "      <td>0.032967</td>\n",
       "      <td>0.043956</td>\n",
       "      <td>0.076923</td>\n",
       "      <td>0.241758</td>\n",
       "      <td>0.032967</td>\n",
       "      <td>0.021978</td>\n",
       "      <td>0.054945</td>\n",
       "      <td>0.000000</td>\n",
       "      <td>0.065934</td>\n",
       "      <td>0.120879</td>\n",
       "      <td>...</td>\n",
       "      <td>0.021978</td>\n",
       "      <td>0.021978</td>\n",
       "      <td>0.032967</td>\n",
       "      <td>0.043956</td>\n",
       "      <td>0.043956</td>\n",
       "      <td>0.054945</td>\n",
       "      <td>0.054945</td>\n",
       "      <td>0.000000</td>\n",
       "      <td>0.010989</td>\n",
       "      <td>yes</td>\n",
       "    </tr>\n",
       "    <tr>\n",
       "      <th>1</th>\n",
       "      <td>0.152174</td>\n",
       "      <td>0.000000</td>\n",
       "      <td>0.054348</td>\n",
       "      <td>0.027174</td>\n",
       "      <td>0.038043</td>\n",
       "      <td>0.086957</td>\n",
       "      <td>0.021739</td>\n",
       "      <td>0.043478</td>\n",
       "      <td>0.043478</td>\n",
       "      <td>0.081522</td>\n",
       "      <td>...</td>\n",
       "      <td>0.032609</td>\n",
       "      <td>0.032609</td>\n",
       "      <td>0.070652</td>\n",
       "      <td>0.032609</td>\n",
       "      <td>0.103261</td>\n",
       "      <td>0.038043</td>\n",
       "      <td>0.076087</td>\n",
       "      <td>0.027174</td>\n",
       "      <td>0.021739</td>\n",
       "      <td>yes</td>\n",
       "    </tr>\n",
       "    <tr>\n",
       "      <th>2</th>\n",
       "      <td>0.114094</td>\n",
       "      <td>0.006711</td>\n",
       "      <td>0.038031</td>\n",
       "      <td>0.042506</td>\n",
       "      <td>0.049217</td>\n",
       "      <td>0.080537</td>\n",
       "      <td>0.049217</td>\n",
       "      <td>0.038031</td>\n",
       "      <td>0.040268</td>\n",
       "      <td>0.120805</td>\n",
       "      <td>...</td>\n",
       "      <td>0.020134</td>\n",
       "      <td>0.053691</td>\n",
       "      <td>0.020134</td>\n",
       "      <td>0.049217</td>\n",
       "      <td>0.082774</td>\n",
       "      <td>0.042506</td>\n",
       "      <td>0.058166</td>\n",
       "      <td>0.024609</td>\n",
       "      <td>0.035794</td>\n",
       "      <td>yes</td>\n",
       "    </tr>\n",
       "    <tr>\n",
       "      <th>3</th>\n",
       "      <td>0.126074</td>\n",
       "      <td>0.011461</td>\n",
       "      <td>0.074499</td>\n",
       "      <td>0.068768</td>\n",
       "      <td>0.017192</td>\n",
       "      <td>0.103152</td>\n",
       "      <td>0.034384</td>\n",
       "      <td>0.048711</td>\n",
       "      <td>0.014327</td>\n",
       "      <td>0.077364</td>\n",
       "      <td>...</td>\n",
       "      <td>0.037249</td>\n",
       "      <td>0.074499</td>\n",
       "      <td>0.028653</td>\n",
       "      <td>0.054441</td>\n",
       "      <td>0.037249</td>\n",
       "      <td>0.057307</td>\n",
       "      <td>0.065903</td>\n",
       "      <td>0.028653</td>\n",
       "      <td>0.028653</td>\n",
       "      <td>yes</td>\n",
       "    </tr>\n",
       "    <tr>\n",
       "      <th>4</th>\n",
       "      <td>0.101382</td>\n",
       "      <td>0.032258</td>\n",
       "      <td>0.055300</td>\n",
       "      <td>0.050691</td>\n",
       "      <td>0.018433</td>\n",
       "      <td>0.082949</td>\n",
       "      <td>0.023041</td>\n",
       "      <td>0.064516</td>\n",
       "      <td>0.082949</td>\n",
       "      <td>0.087558</td>\n",
       "      <td>...</td>\n",
       "      <td>0.027650</td>\n",
       "      <td>0.046083</td>\n",
       "      <td>0.023041</td>\n",
       "      <td>0.041475</td>\n",
       "      <td>0.059908</td>\n",
       "      <td>0.059908</td>\n",
       "      <td>0.096774</td>\n",
       "      <td>0.004608</td>\n",
       "      <td>0.018433</td>\n",
       "      <td>yes</td>\n",
       "    </tr>\n",
       "  </tbody>\n",
       "</table>\n",
       "<p>5 rows × 21 columns</p>\n",
       "</div>"
      ],
      "text/plain": [
       "        f.1       f.2       f.3       f.4       f.5       f.6       f.7  \\\n",
       "0  0.032967  0.043956  0.076923  0.241758  0.032967  0.021978  0.054945   \n",
       "1  0.152174  0.000000  0.054348  0.027174  0.038043  0.086957  0.021739   \n",
       "2  0.114094  0.006711  0.038031  0.042506  0.049217  0.080537  0.049217   \n",
       "3  0.126074  0.011461  0.074499  0.068768  0.017192  0.103152  0.034384   \n",
       "4  0.101382  0.032258  0.055300  0.050691  0.018433  0.082949  0.023041   \n",
       "\n",
       "        f.8       f.9      f.10  ...      f.12      f.13      f.14      f.15  \\\n",
       "0  0.000000  0.065934  0.120879  ...  0.021978  0.021978  0.032967  0.043956   \n",
       "1  0.043478  0.043478  0.081522  ...  0.032609  0.032609  0.070652  0.032609   \n",
       "2  0.038031  0.040268  0.120805  ...  0.020134  0.053691  0.020134  0.049217   \n",
       "3  0.048711  0.014327  0.077364  ...  0.037249  0.074499  0.028653  0.054441   \n",
       "4  0.064516  0.082949  0.087558  ...  0.027650  0.046083  0.023041  0.041475   \n",
       "\n",
       "       f.16      f.17      f.18      f.19      f.20  class  \n",
       "0  0.043956  0.054945  0.054945  0.000000  0.010989    yes  \n",
       "1  0.103261  0.038043  0.076087  0.027174  0.021739    yes  \n",
       "2  0.082774  0.042506  0.058166  0.024609  0.035794    yes  \n",
       "3  0.037249  0.057307  0.065903  0.028653  0.028653    yes  \n",
       "4  0.059908  0.059908  0.096774  0.004608  0.018433    yes  \n",
       "\n",
       "[5 rows x 21 columns]"
      ]
     },
     "execution_count": 3,
     "metadata": {},
     "output_type": "execute_result"
    }
   ],
   "source": [
    "Test_Data.head()"
   ]
  },
  {
   "cell_type": "code",
   "execution_count": 4,
   "id": "pressing-florida",
   "metadata": {},
   "outputs": [
    {
     "data": {
      "text/plain": [
       "(4918, 21)"
      ]
     },
     "execution_count": 4,
     "metadata": {},
     "output_type": "execute_result"
    }
   ],
   "source": [
    "Train_Data.shape"
   ]
  },
  {
   "cell_type": "code",
   "execution_count": 5,
   "id": "portable-railway",
   "metadata": {},
   "outputs": [
    {
     "data": {
      "text/plain": [
       "(889, 21)"
      ]
     },
     "execution_count": 5,
     "metadata": {},
     "output_type": "execute_result"
    }
   ],
   "source": [
    "Test_Data.shape"
   ]
  },
  {
   "cell_type": "code",
   "execution_count": 6,
   "id": "democratic-clause",
   "metadata": {},
   "outputs": [
    {
     "name": "stdout",
     "output_type": "stream",
     "text": [
      "0\n",
      "0\n"
     ]
    }
   ],
   "source": [
    "print(Train_Data.isna().sum().max())\n",
    "print(Test_Data.isna().sum().max())"
   ]
  },
  {
   "cell_type": "code",
   "execution_count": 7,
   "id": "instant-newspaper",
   "metadata": {},
   "outputs": [
    {
     "name": "stdout",
     "output_type": "stream",
     "text": [
      "<class 'pandas.core.frame.DataFrame'>\n",
      "RangeIndex: 4918 entries, 0 to 4917\n",
      "Data columns (total 21 columns):\n",
      " #   Column  Non-Null Count  Dtype  \n",
      "---  ------  --------------  -----  \n",
      " 0   f.1     4918 non-null   float64\n",
      " 1   f.2     4918 non-null   float64\n",
      " 2   f.3     4918 non-null   float64\n",
      " 3   f.4     4918 non-null   float64\n",
      " 4   f.5     4918 non-null   float64\n",
      " 5   f.6     4918 non-null   float64\n",
      " 6   f.7     4918 non-null   float64\n",
      " 7   f.8     4918 non-null   float64\n",
      " 8   f.9     4918 non-null   float64\n",
      " 9   f.10    4918 non-null   float64\n",
      " 10  f.11    4918 non-null   float64\n",
      " 11  f.12    4918 non-null   float64\n",
      " 12  f.13    4918 non-null   float64\n",
      " 13  f.14    4918 non-null   float64\n",
      " 14  f.15    4918 non-null   float64\n",
      " 15  f.16    4918 non-null   float64\n",
      " 16  f.17    4918 non-null   float64\n",
      " 17  f.18    4918 non-null   float64\n",
      " 18  f.19    4918 non-null   float64\n",
      " 19  f.20    4918 non-null   float64\n",
      " 20  class   4918 non-null   object \n",
      "dtypes: float64(20), object(1)\n",
      "memory usage: 807.0+ KB\n"
     ]
    }
   ],
   "source": [
    "Train_Data.info()"
   ]
  },
  {
   "cell_type": "code",
   "execution_count": 9,
   "id": "disabled-injury",
   "metadata": {},
   "outputs": [
    {
     "data": {
      "text/html": [
       "<div>\n",
       "<style scoped>\n",
       "    .dataframe tbody tr th:only-of-type {\n",
       "        vertical-align: middle;\n",
       "    }\n",
       "\n",
       "    .dataframe tbody tr th {\n",
       "        vertical-align: top;\n",
       "    }\n",
       "\n",
       "    .dataframe thead th {\n",
       "        text-align: right;\n",
       "    }\n",
       "</style>\n",
       "<table border=\"1\" class=\"dataframe\">\n",
       "  <thead>\n",
       "    <tr style=\"text-align: right;\">\n",
       "      <th></th>\n",
       "      <th>f.1</th>\n",
       "      <th>f.2</th>\n",
       "      <th>f.3</th>\n",
       "      <th>f.4</th>\n",
       "      <th>f.5</th>\n",
       "      <th>f.6</th>\n",
       "      <th>f.7</th>\n",
       "      <th>f.8</th>\n",
       "      <th>f.9</th>\n",
       "      <th>f.10</th>\n",
       "      <th>...</th>\n",
       "      <th>f.12</th>\n",
       "      <th>f.13</th>\n",
       "      <th>f.14</th>\n",
       "      <th>f.15</th>\n",
       "      <th>f.16</th>\n",
       "      <th>f.17</th>\n",
       "      <th>f.18</th>\n",
       "      <th>f.19</th>\n",
       "      <th>f.20</th>\n",
       "      <th>class</th>\n",
       "    </tr>\n",
       "  </thead>\n",
       "  <tbody>\n",
       "    <tr>\n",
       "      <th>4913</th>\n",
       "      <td>0.110895</td>\n",
       "      <td>0.017510</td>\n",
       "      <td>0.038911</td>\n",
       "      <td>0.021401</td>\n",
       "      <td>0.070039</td>\n",
       "      <td>0.112840</td>\n",
       "      <td>0.019455</td>\n",
       "      <td>0.046693</td>\n",
       "      <td>0.023346</td>\n",
       "      <td>0.101167</td>\n",
       "      <td>...</td>\n",
       "      <td>0.033074</td>\n",
       "      <td>0.029183</td>\n",
       "      <td>0.015564</td>\n",
       "      <td>0.036965</td>\n",
       "      <td>0.097276</td>\n",
       "      <td>0.071984</td>\n",
       "      <td>0.064202</td>\n",
       "      <td>0.025292</td>\n",
       "      <td>0.040856</td>\n",
       "      <td>0</td>\n",
       "    </tr>\n",
       "    <tr>\n",
       "      <th>4914</th>\n",
       "      <td>0.057803</td>\n",
       "      <td>0.008671</td>\n",
       "      <td>0.063584</td>\n",
       "      <td>0.066474</td>\n",
       "      <td>0.028902</td>\n",
       "      <td>0.101156</td>\n",
       "      <td>0.017341</td>\n",
       "      <td>0.049133</td>\n",
       "      <td>0.057803</td>\n",
       "      <td>0.092486</td>\n",
       "      <td>...</td>\n",
       "      <td>0.049133</td>\n",
       "      <td>0.034682</td>\n",
       "      <td>0.043353</td>\n",
       "      <td>0.086705</td>\n",
       "      <td>0.086705</td>\n",
       "      <td>0.054913</td>\n",
       "      <td>0.066474</td>\n",
       "      <td>0.005780</td>\n",
       "      <td>0.008671</td>\n",
       "      <td>0</td>\n",
       "    </tr>\n",
       "    <tr>\n",
       "      <th>4915</th>\n",
       "      <td>0.082915</td>\n",
       "      <td>0.015075</td>\n",
       "      <td>0.042714</td>\n",
       "      <td>0.070352</td>\n",
       "      <td>0.025126</td>\n",
       "      <td>0.077889</td>\n",
       "      <td>0.087940</td>\n",
       "      <td>0.092965</td>\n",
       "      <td>0.040201</td>\n",
       "      <td>0.092965</td>\n",
       "      <td>...</td>\n",
       "      <td>0.035176</td>\n",
       "      <td>0.015075</td>\n",
       "      <td>0.017588</td>\n",
       "      <td>0.035176</td>\n",
       "      <td>0.067839</td>\n",
       "      <td>0.045226</td>\n",
       "      <td>0.100503</td>\n",
       "      <td>0.015075</td>\n",
       "      <td>0.015075</td>\n",
       "      <td>0</td>\n",
       "    </tr>\n",
       "    <tr>\n",
       "      <th>4916</th>\n",
       "      <td>0.071233</td>\n",
       "      <td>0.010959</td>\n",
       "      <td>0.038356</td>\n",
       "      <td>0.042466</td>\n",
       "      <td>0.056164</td>\n",
       "      <td>0.073973</td>\n",
       "      <td>0.017808</td>\n",
       "      <td>0.054795</td>\n",
       "      <td>0.043836</td>\n",
       "      <td>0.116438</td>\n",
       "      <td>...</td>\n",
       "      <td>0.031507</td>\n",
       "      <td>0.038356</td>\n",
       "      <td>0.023288</td>\n",
       "      <td>0.053425</td>\n",
       "      <td>0.113699</td>\n",
       "      <td>0.049315</td>\n",
       "      <td>0.068493</td>\n",
       "      <td>0.013699</td>\n",
       "      <td>0.041096</td>\n",
       "      <td>0</td>\n",
       "    </tr>\n",
       "    <tr>\n",
       "      <th>4917</th>\n",
       "      <td>0.076570</td>\n",
       "      <td>0.010720</td>\n",
       "      <td>0.075038</td>\n",
       "      <td>0.062787</td>\n",
       "      <td>0.052067</td>\n",
       "      <td>0.055130</td>\n",
       "      <td>0.012251</td>\n",
       "      <td>0.047473</td>\n",
       "      <td>0.056662</td>\n",
       "      <td>0.096478</td>\n",
       "      <td>...</td>\n",
       "      <td>0.039816</td>\n",
       "      <td>0.059724</td>\n",
       "      <td>0.044410</td>\n",
       "      <td>0.045942</td>\n",
       "      <td>0.104135</td>\n",
       "      <td>0.068913</td>\n",
       "      <td>0.041348</td>\n",
       "      <td>0.009188</td>\n",
       "      <td>0.021440</td>\n",
       "      <td>0</td>\n",
       "    </tr>\n",
       "  </tbody>\n",
       "</table>\n",
       "<p>5 rows × 21 columns</p>\n",
       "</div>"
      ],
      "text/plain": [
       "           f.1       f.2       f.3       f.4       f.5       f.6       f.7  \\\n",
       "4913  0.110895  0.017510  0.038911  0.021401  0.070039  0.112840  0.019455   \n",
       "4914  0.057803  0.008671  0.063584  0.066474  0.028902  0.101156  0.017341   \n",
       "4915  0.082915  0.015075  0.042714  0.070352  0.025126  0.077889  0.087940   \n",
       "4916  0.071233  0.010959  0.038356  0.042466  0.056164  0.073973  0.017808   \n",
       "4917  0.076570  0.010720  0.075038  0.062787  0.052067  0.055130  0.012251   \n",
       "\n",
       "           f.8       f.9      f.10  ...      f.12      f.13      f.14  \\\n",
       "4913  0.046693  0.023346  0.101167  ...  0.033074  0.029183  0.015564   \n",
       "4914  0.049133  0.057803  0.092486  ...  0.049133  0.034682  0.043353   \n",
       "4915  0.092965  0.040201  0.092965  ...  0.035176  0.015075  0.017588   \n",
       "4916  0.054795  0.043836  0.116438  ...  0.031507  0.038356  0.023288   \n",
       "4917  0.047473  0.056662  0.096478  ...  0.039816  0.059724  0.044410   \n",
       "\n",
       "          f.15      f.16      f.17      f.18      f.19      f.20  class  \n",
       "4913  0.036965  0.097276  0.071984  0.064202  0.025292  0.040856      0  \n",
       "4914  0.086705  0.086705  0.054913  0.066474  0.005780  0.008671      0  \n",
       "4915  0.035176  0.067839  0.045226  0.100503  0.015075  0.015075      0  \n",
       "4916  0.053425  0.113699  0.049315  0.068493  0.013699  0.041096      0  \n",
       "4917  0.045942  0.104135  0.068913  0.041348  0.009188  0.021440      0  \n",
       "\n",
       "[5 rows x 21 columns]"
      ]
     },
     "execution_count": 9,
     "metadata": {},
     "output_type": "execute_result"
    }
   ],
   "source": [
    "Train_Data[\"class\"]= pd.get_dummies(Train_Data['class'], drop_first=True)\n",
    "Train_Data.tail()"
   ]
  },
  {
   "cell_type": "code",
   "execution_count": 10,
   "id": "included-banana",
   "metadata": {},
   "outputs": [
    {
     "data": {
      "text/html": [
       "<div>\n",
       "<style scoped>\n",
       "    .dataframe tbody tr th:only-of-type {\n",
       "        vertical-align: middle;\n",
       "    }\n",
       "\n",
       "    .dataframe tbody tr th {\n",
       "        vertical-align: top;\n",
       "    }\n",
       "\n",
       "    .dataframe thead th {\n",
       "        text-align: right;\n",
       "    }\n",
       "</style>\n",
       "<table border=\"1\" class=\"dataframe\">\n",
       "  <thead>\n",
       "    <tr style=\"text-align: right;\">\n",
       "      <th></th>\n",
       "      <th>f.1</th>\n",
       "      <th>f.2</th>\n",
       "      <th>f.3</th>\n",
       "      <th>f.4</th>\n",
       "      <th>f.5</th>\n",
       "      <th>f.6</th>\n",
       "      <th>f.7</th>\n",
       "      <th>f.8</th>\n",
       "      <th>f.9</th>\n",
       "      <th>f.10</th>\n",
       "      <th>...</th>\n",
       "      <th>f.12</th>\n",
       "      <th>f.13</th>\n",
       "      <th>f.14</th>\n",
       "      <th>f.15</th>\n",
       "      <th>f.16</th>\n",
       "      <th>f.17</th>\n",
       "      <th>f.18</th>\n",
       "      <th>f.19</th>\n",
       "      <th>f.20</th>\n",
       "      <th>class</th>\n",
       "    </tr>\n",
       "  </thead>\n",
       "  <tbody>\n",
       "    <tr>\n",
       "      <th>884</th>\n",
       "      <td>0.062016</td>\n",
       "      <td>0.015504</td>\n",
       "      <td>0.019380</td>\n",
       "      <td>0.031008</td>\n",
       "      <td>0.065891</td>\n",
       "      <td>0.065891</td>\n",
       "      <td>0.011628</td>\n",
       "      <td>0.089147</td>\n",
       "      <td>0.065891</td>\n",
       "      <td>0.143411</td>\n",
       "      <td>...</td>\n",
       "      <td>0.038760</td>\n",
       "      <td>0.046512</td>\n",
       "      <td>0.019380</td>\n",
       "      <td>0.015504</td>\n",
       "      <td>0.073643</td>\n",
       "      <td>0.046512</td>\n",
       "      <td>0.089147</td>\n",
       "      <td>0.007752</td>\n",
       "      <td>0.054264</td>\n",
       "      <td>0</td>\n",
       "    </tr>\n",
       "    <tr>\n",
       "      <th>885</th>\n",
       "      <td>0.121622</td>\n",
       "      <td>0.006757</td>\n",
       "      <td>0.047297</td>\n",
       "      <td>0.033784</td>\n",
       "      <td>0.033784</td>\n",
       "      <td>0.121622</td>\n",
       "      <td>0.013514</td>\n",
       "      <td>0.054054</td>\n",
       "      <td>0.087838</td>\n",
       "      <td>0.087838</td>\n",
       "      <td>...</td>\n",
       "      <td>0.033784</td>\n",
       "      <td>0.020270</td>\n",
       "      <td>0.006757</td>\n",
       "      <td>0.020270</td>\n",
       "      <td>0.081081</td>\n",
       "      <td>0.074324</td>\n",
       "      <td>0.081081</td>\n",
       "      <td>0.013514</td>\n",
       "      <td>0.040541</td>\n",
       "      <td>0</td>\n",
       "    </tr>\n",
       "    <tr>\n",
       "      <th>886</th>\n",
       "      <td>0.104982</td>\n",
       "      <td>0.016014</td>\n",
       "      <td>0.032028</td>\n",
       "      <td>0.030249</td>\n",
       "      <td>0.042705</td>\n",
       "      <td>0.092527</td>\n",
       "      <td>0.016014</td>\n",
       "      <td>0.085409</td>\n",
       "      <td>0.032028</td>\n",
       "      <td>0.113879</td>\n",
       "      <td>...</td>\n",
       "      <td>0.023132</td>\n",
       "      <td>0.049822</td>\n",
       "      <td>0.037367</td>\n",
       "      <td>0.030249</td>\n",
       "      <td>0.078292</td>\n",
       "      <td>0.072954</td>\n",
       "      <td>0.085409</td>\n",
       "      <td>0.021352</td>\n",
       "      <td>0.021352</td>\n",
       "      <td>0</td>\n",
       "    </tr>\n",
       "    <tr>\n",
       "      <th>887</th>\n",
       "      <td>0.169903</td>\n",
       "      <td>0.000000</td>\n",
       "      <td>0.033981</td>\n",
       "      <td>0.024272</td>\n",
       "      <td>0.048544</td>\n",
       "      <td>0.063107</td>\n",
       "      <td>0.033981</td>\n",
       "      <td>0.033981</td>\n",
       "      <td>0.009709</td>\n",
       "      <td>0.131068</td>\n",
       "      <td>...</td>\n",
       "      <td>0.019417</td>\n",
       "      <td>0.058252</td>\n",
       "      <td>0.019417</td>\n",
       "      <td>0.053398</td>\n",
       "      <td>0.048544</td>\n",
       "      <td>0.038835</td>\n",
       "      <td>0.111650</td>\n",
       "      <td>0.029126</td>\n",
       "      <td>0.038835</td>\n",
       "      <td>0</td>\n",
       "    </tr>\n",
       "    <tr>\n",
       "      <th>888</th>\n",
       "      <td>0.013605</td>\n",
       "      <td>0.006803</td>\n",
       "      <td>0.088435</td>\n",
       "      <td>0.061224</td>\n",
       "      <td>0.027211</td>\n",
       "      <td>0.020408</td>\n",
       "      <td>0.027211</td>\n",
       "      <td>0.068027</td>\n",
       "      <td>0.034014</td>\n",
       "      <td>0.156463</td>\n",
       "      <td>...</td>\n",
       "      <td>0.047619</td>\n",
       "      <td>0.027211</td>\n",
       "      <td>0.027211</td>\n",
       "      <td>0.054422</td>\n",
       "      <td>0.088435</td>\n",
       "      <td>0.074830</td>\n",
       "      <td>0.074830</td>\n",
       "      <td>0.020408</td>\n",
       "      <td>0.061224</td>\n",
       "      <td>0</td>\n",
       "    </tr>\n",
       "  </tbody>\n",
       "</table>\n",
       "<p>5 rows × 21 columns</p>\n",
       "</div>"
      ],
      "text/plain": [
       "          f.1       f.2       f.3       f.4       f.5       f.6       f.7  \\\n",
       "884  0.062016  0.015504  0.019380  0.031008  0.065891  0.065891  0.011628   \n",
       "885  0.121622  0.006757  0.047297  0.033784  0.033784  0.121622  0.013514   \n",
       "886  0.104982  0.016014  0.032028  0.030249  0.042705  0.092527  0.016014   \n",
       "887  0.169903  0.000000  0.033981  0.024272  0.048544  0.063107  0.033981   \n",
       "888  0.013605  0.006803  0.088435  0.061224  0.027211  0.020408  0.027211   \n",
       "\n",
       "          f.8       f.9      f.10  ...      f.12      f.13      f.14  \\\n",
       "884  0.089147  0.065891  0.143411  ...  0.038760  0.046512  0.019380   \n",
       "885  0.054054  0.087838  0.087838  ...  0.033784  0.020270  0.006757   \n",
       "886  0.085409  0.032028  0.113879  ...  0.023132  0.049822  0.037367   \n",
       "887  0.033981  0.009709  0.131068  ...  0.019417  0.058252  0.019417   \n",
       "888  0.068027  0.034014  0.156463  ...  0.047619  0.027211  0.027211   \n",
       "\n",
       "         f.15      f.16      f.17      f.18      f.19      f.20  class  \n",
       "884  0.015504  0.073643  0.046512  0.089147  0.007752  0.054264      0  \n",
       "885  0.020270  0.081081  0.074324  0.081081  0.013514  0.040541      0  \n",
       "886  0.030249  0.078292  0.072954  0.085409  0.021352  0.021352      0  \n",
       "887  0.053398  0.048544  0.038835  0.111650  0.029126  0.038835      0  \n",
       "888  0.054422  0.088435  0.074830  0.074830  0.020408  0.061224      0  \n",
       "\n",
       "[5 rows x 21 columns]"
      ]
     },
     "execution_count": 10,
     "metadata": {},
     "output_type": "execute_result"
    }
   ],
   "source": [
    "Test_Data[\"class\"]= pd.get_dummies(Test_Data['class'], drop_first=True)\n",
    "Test_Data.tail()"
   ]
  },
  {
   "cell_type": "code",
   "execution_count": 11,
   "id": "official-element",
   "metadata": {},
   "outputs": [],
   "source": [
    "X_train, y_train = Train_Data.drop(columns=[\"class\"]), Train_Data[\"class\"]"
   ]
  },
  {
   "cell_type": "code",
   "execution_count": 12,
   "id": "boolean-precipitation",
   "metadata": {},
   "outputs": [],
   "source": [
    "X_test, y_test = Test_Data.drop(columns=[\"class\"]), Test_Data[\"class\"]"
   ]
  },
  {
   "cell_type": "code",
   "execution_count": 14,
   "id": "grave-softball",
   "metadata": {},
   "outputs": [],
   "source": [
    "#https://michael-fuchs-python.netlify.app/2019/11/11/introduction-to-sgd-classifier/"
   ]
  },
  {
   "cell_type": "code",
   "execution_count": 21,
   "id": "gross-scheduling",
   "metadata": {},
   "outputs": [],
   "source": [
    "from sklearn.linear_model import SGDClassifier\n",
    "from sklearn.metrics import accuracy_score\n",
    "import time"
   ]
  },
  {
   "cell_type": "code",
   "execution_count": 19,
   "id": "painted-paper",
   "metadata": {},
   "outputs": [
    {
     "data": {
      "text/plain": [
       "SGDClassifier(loss='log')"
      ]
     },
     "execution_count": 19,
     "metadata": {},
     "output_type": "execute_result"
    }
   ],
   "source": [
    "clf = SGDClassifier(loss=\"log\", penalty=\"l2\")\n",
    "clf.fit(X_train, y_train)"
   ]
  },
  {
   "cell_type": "code",
   "execution_count": 23,
   "id": "scheduled-registrar",
   "metadata": {},
   "outputs": [
    {
     "name": "stdout",
     "output_type": "stream",
     "text": [
      "Accuracy: 0.80\n"
     ]
    }
   ],
   "source": [
    "y_pred = clf.predict(X_test)\n",
    "print('Accuracy: {:.2f}'.format(accuracy_score(y_test, y_pred)))"
   ]
  },
  {
   "cell_type": "code",
   "execution_count": 26,
   "id": "dress-software",
   "metadata": {},
   "outputs": [
    {
     "name": "stderr",
     "output_type": "stream",
     "text": [
      "/home/joy/venv/lib/python3.8/site-packages/sklearn/linear_model/_stochastic_gradient.py:574: ConvergenceWarning: Maximum number of iteration reached before convergence. Consider increasing max_iter to improve the fit.\n",
      "  warnings.warn(\"Maximum number of iteration reached before \"\n",
      "/home/joy/venv/lib/python3.8/site-packages/sklearn/linear_model/_stochastic_gradient.py:574: ConvergenceWarning: Maximum number of iteration reached before convergence. Consider increasing max_iter to improve the fit.\n",
      "  warnings.warn(\"Maximum number of iteration reached before \"\n",
      "/home/joy/venv/lib/python3.8/site-packages/sklearn/linear_model/_stochastic_gradient.py:574: ConvergenceWarning: Maximum number of iteration reached before convergence. Consider increasing max_iter to improve the fit.\n",
      "  warnings.warn(\"Maximum number of iteration reached before \"\n"
     ]
    },
    {
     "data": {
      "text/plain": [
       "[<matplotlib.lines.Line2D at 0x7f0252bf79a0>]"
      ]
     },
     "execution_count": 26,
     "metadata": {},
     "output_type": "execute_result"
    },
    {
     "data": {
      "image/png": "[encoded data removed]",
      "text/plain": [
       "<Figure size 432x288 with 1 Axes>"
      ]
     },
     "metadata": {
      "needs_background": "light"
     },
     "output_type": "display_data"
    }
   ],
   "source": [
    "n_iters = [5, 10, 20, 50, 100, 1000]\n",
    "scores = []\n",
    "for n_iter in n_iters:\n",
    "    clf = SGDClassifier(loss=\"log\", penalty=\"l2\", max_iter=n_iter)\n",
    "    clf.fit(X_train, y_train)\n",
    "    scores.append(clf.score(X_test, y_test))\n",
    "  \n",
    "plt.title(\"Effect of n_iter\")\n",
    "plt.xlabel(\"n_iter\")\n",
    "plt.ylabel(\"score\")\n",
    "plt.plot(n_iters, scores) "
   ]
  },
  {
   "cell_type": "code",
   "execution_count": 27,
   "id": "psychological-fraud",
   "metadata": {},
   "outputs": [
    {
     "data": {
      "text/plain": [
       "SGDClassifier()"
      ]
     },
     "execution_count": 27,
     "metadata": {},
     "output_type": "execute_result"
    }
   ],
   "source": [
    "clf = SGDClassifier(loss=\"hinge\", penalty=\"l2\")\n",
    "clf.fit(X_train, y_train)"
   ]
  },
  {
   "cell_type": "code",
   "execution_count": 28,
   "id": "organic-african",
   "metadata": {},
   "outputs": [
    {
     "name": "stdout",
     "output_type": "stream",
     "text": [
      "Accuracy: 0.80\n"
     ]
    }
   ],
   "source": [
    "y_pred = clf.predict(X_test)\n",
    "\n",
    "print('Accuracy: {:.2f}'.format(accuracy_score(y_test, y_pred)))"
   ]
  },
  {
   "cell_type": "code",
   "execution_count": 29,
   "id": "macro-antarctica",
   "metadata": {},
   "outputs": [
    {
     "name": "stderr",
     "output_type": "stream",
     "text": [
      "/home/joy/venv/lib/python3.8/site-packages/sklearn/linear_model/_stochastic_gradient.py:574: ConvergenceWarning: Maximum number of iteration reached before convergence. Consider increasing max_iter to improve the fit.\n",
      "  warnings.warn(\"Maximum number of iteration reached before \"\n",
      "/home/joy/venv/lib/python3.8/site-packages/sklearn/linear_model/_stochastic_gradient.py:574: ConvergenceWarning: Maximum number of iteration reached before convergence. Consider increasing max_iter to improve the fit.\n",
      "  warnings.warn(\"Maximum number of iteration reached before \"\n",
      "/home/joy/venv/lib/python3.8/site-packages/sklearn/linear_model/_stochastic_gradient.py:574: ConvergenceWarning: Maximum number of iteration reached before convergence. Consider increasing max_iter to improve the fit.\n",
      "  warnings.warn(\"Maximum number of iteration reached before \"\n"
     ]
    },
    {
     "data": {
      "text/plain": [
       "[<matplotlib.lines.Line2D at 0x7f0252ae7490>]"
      ]
     },
     "execution_count": 29,
     "metadata": {},
     "output_type": "execute_result"
    },
    {
     "data": {
      "image/png": "[encoded data removed]",
      "text/plain": [
       "<Figure size 432x288 with 1 Axes>"
      ]
     },
     "metadata": {
      "needs_background": "light"
     },
     "output_type": "display_data"
    }
   ],
   "source": [
    "n_iters = [5, 10, 20, 50, 100, 1000]\n",
    "scores = []\n",
    "for n_iter in n_iters:\n",
    "    clf = SGDClassifier(loss=\"hinge\", penalty=\"l2\", max_iter=n_iter)\n",
    "    clf.fit(X_train, y_train)\n",
    "    scores.append(clf.score(X_test, y_test))\n",
    "  \n",
    "plt.title(\"Effect of n_iter\")\n",
    "plt.xlabel(\"n_iter\")\n",
    "plt.ylabel(\"score\")\n",
    "plt.plot(n_iters, scores)"
   ]
  },
  {
   "cell_type": "code",
   "execution_count": 33,
   "id": "through-advantage",
   "metadata": {},
   "outputs": [],
   "source": [
    "from sklearn.svm import SVC"
   ]
  },
  {
   "cell_type": "code",
   "execution_count": 34,
   "id": "indian-romance",
   "metadata": {},
   "outputs": [
    {
     "name": "stdout",
     "output_type": "stream",
     "text": [
      "Training time for linear SVM with SGD training: 0.013032197952270508s\n",
      "Training time for linear SVM without SGD training: 0.2616307735443115s\n"
     ]
    }
   ],
   "source": [
    "start = time.time()\n",
    "clf = SGDClassifier(loss=\"hinge\", penalty=\"l2\")\n",
    "clf.fit(X_train, y_train)\n",
    "stop = time.time()\n",
    "print(f\"Training time for linear SVM with SGD training: {stop - start}s\")\n",
    "\n",
    "start = time.time()\n",
    "clf = SVC(kernel='linear')\n",
    "clf.fit(X_train, y_train)\n",
    "stop = time.time()\n",
    "print(f\"Training time for linear SVM without SGD training: {stop - start}s\")"
   ]
  },
  {
   "cell_type": "code",
   "execution_count": 35,
   "id": "negative-savage",
   "metadata": {},
   "outputs": [
    {
     "name": "stderr",
     "output_type": "stream",
     "text": [
      "/home/joy/venv/lib/python3.8/site-packages/sklearn/linear_model/_stochastic_gradient.py:574: ConvergenceWarning: Maximum number of iteration reached before convergence. Consider increasing max_iter to improve the fit.\n",
      "  warnings.warn(\"Maximum number of iteration reached before \"\n"
     ]
    },
    {
     "data": {
      "text/plain": [
       "[<matplotlib.lines.Line2D at 0x7f0252ad46d0>]"
      ]
     },
     "execution_count": 35,
     "metadata": {},
     "output_type": "execute_result"
    },
    {
     "data": {
      "image/png": "[encoded data removed]",
      "text/plain": [
       "<Figure size 432x288 with 1 Axes>"
      ]
     },
     "metadata": {
      "needs_background": "light"
     },
     "output_type": "display_data"
    }
   ],
   "source": [
    "losses = [\"hinge\", \"log\", \"modified_huber\", \"perceptron\", \"squared_hinge\"]\n",
    "scores = []\n",
    "for loss in losses:\n",
    "    clf = SGDClassifier(loss=loss, penalty=\"l2\", max_iter=1000)\n",
    "    clf.fit(X_train, y_train)\n",
    "    scores.append(clf.score(X_test, y_test))\n",
    "  \n",
    "plt.title(\"Effect of loss\")\n",
    "plt.xlabel(\"loss\")\n",
    "plt.ylabel(\"score\")\n",
    "x = np.arange(len(losses))\n",
    "plt.xticks(x, losses)\n",
    "plt.plot(x, scores) "
   ]
  },
  {
   "cell_type": "code",
   "execution_count": 37,
   "id": "verified-tenant",
   "metadata": {},
   "outputs": [],
   "source": [
    "from sklearn.model_selection import GridSearchCV"
   ]
  },
  {
   "cell_type": "code",
   "execution_count": 38,
   "id": "governing-remains",
   "metadata": {},
   "outputs": [
    {
     "name": "stderr",
     "output_type": "stream",
     "text": [
      "/home/joy/venv/lib/python3.8/site-packages/sklearn/linear_model/_stochastic_gradient.py:574: ConvergenceWarning: Maximum number of iteration reached before convergence. Consider increasing max_iter to improve the fit.\n",
      "  warnings.warn(\"Maximum number of iteration reached before \"\n",
      "/home/joy/venv/lib/python3.8/site-packages/sklearn/linear_model/_stochastic_gradient.py:574: ConvergenceWarning: Maximum number of iteration reached before convergence. Consider increasing max_iter to improve the fit.\n",
      "  warnings.warn(\"Maximum number of iteration reached before \"\n",
      "/home/joy/venv/lib/python3.8/site-packages/sklearn/linear_model/_stochastic_gradient.py:574: ConvergenceWarning: Maximum number of iteration reached before convergence. Consider increasing max_iter to improve the fit.\n",
      "  warnings.warn(\"Maximum number of iteration reached before \"\n",
      "/home/joy/venv/lib/python3.8/site-packages/sklearn/linear_model/_stochastic_gradient.py:574: ConvergenceWarning: Maximum number of iteration reached before convergence. Consider increasing max_iter to improve the fit.\n",
      "  warnings.warn(\"Maximum number of iteration reached before \"\n",
      "/home/joy/venv/lib/python3.8/site-packages/sklearn/linear_model/_stochastic_gradient.py:574: ConvergenceWarning: Maximum number of iteration reached before convergence. Consider increasing max_iter to improve the fit.\n",
      "  warnings.warn(\"Maximum number of iteration reached before \"\n",
      "/home/joy/venv/lib/python3.8/site-packages/sklearn/linear_model/_stochastic_gradient.py:574: ConvergenceWarning: Maximum number of iteration reached before convergence. Consider increasing max_iter to improve the fit.\n",
      "  warnings.warn(\"Maximum number of iteration reached before \"\n",
      "/home/joy/venv/lib/python3.8/site-packages/sklearn/linear_model/_stochastic_gradient.py:574: ConvergenceWarning: Maximum number of iteration reached before convergence. Consider increasing max_iter to improve the fit.\n",
      "  warnings.warn(\"Maximum number of iteration reached before \"\n",
      "/home/joy/venv/lib/python3.8/site-packages/sklearn/linear_model/_stochastic_gradient.py:574: ConvergenceWarning: Maximum number of iteration reached before convergence. Consider increasing max_iter to improve the fit.\n",
      "  warnings.warn(\"Maximum number of iteration reached before \"\n",
      "/home/joy/venv/lib/python3.8/site-packages/sklearn/linear_model/_stochastic_gradient.py:574: ConvergenceWarning: Maximum number of iteration reached before convergence. Consider increasing max_iter to improve the fit.\n",
      "  warnings.warn(\"Maximum number of iteration reached before \"\n",
      "/home/joy/venv/lib/python3.8/site-packages/sklearn/linear_model/_stochastic_gradient.py:574: ConvergenceWarning: Maximum number of iteration reached before convergence. Consider increasing max_iter to improve the fit.\n",
      "  warnings.warn(\"Maximum number of iteration reached before \"\n",
      "/home/joy/venv/lib/python3.8/site-packages/sklearn/linear_model/_stochastic_gradient.py:574: ConvergenceWarning: Maximum number of iteration reached before convergence. Consider increasing max_iter to improve the fit.\n",
      "  warnings.warn(\"Maximum number of iteration reached before \"\n",
      "/home/joy/venv/lib/python3.8/site-packages/sklearn/linear_model/_stochastic_gradient.py:574: ConvergenceWarning: Maximum number of iteration reached before convergence. Consider increasing max_iter to improve the fit.\n",
      "  warnings.warn(\"Maximum number of iteration reached before \"\n",
      "/home/joy/venv/lib/python3.8/site-packages/sklearn/linear_model/_stochastic_gradient.py:574: ConvergenceWarning: Maximum number of iteration reached before convergence. Consider increasing max_iter to improve the fit.\n",
      "  warnings.warn(\"Maximum number of iteration reached before \"\n",
      "/home/joy/venv/lib/python3.8/site-packages/sklearn/linear_model/_stochastic_gradient.py:574: ConvergenceWarning: Maximum number of iteration reached before convergence. Consider increasing max_iter to improve the fit.\n",
      "  warnings.warn(\"Maximum number of iteration reached before \"\n",
      "/home/joy/venv/lib/python3.8/site-packages/sklearn/linear_model/_stochastic_gradient.py:574: ConvergenceWarning: Maximum number of iteration reached before convergence. Consider increasing max_iter to improve the fit.\n",
      "  warnings.warn(\"Maximum number of iteration reached before \"\n",
      "/home/joy/venv/lib/python3.8/site-packages/sklearn/linear_model/_stochastic_gradient.py:574: ConvergenceWarning: Maximum number of iteration reached before convergence. Consider increasing max_iter to improve the fit.\n",
      "  warnings.warn(\"Maximum number of iteration reached before \"\n",
      "/home/joy/venv/lib/python3.8/site-packages/sklearn/linear_model/_stochastic_gradient.py:574: ConvergenceWarning: Maximum number of iteration reached before convergence. Consider increasing max_iter to improve the fit.\n",
      "  warnings.warn(\"Maximum number of iteration reached before \"\n",
      "/home/joy/venv/lib/python3.8/site-packages/sklearn/linear_model/_stochastic_gradient.py:574: ConvergenceWarning: Maximum number of iteration reached before convergence. Consider increasing max_iter to improve the fit.\n",
      "  warnings.warn(\"Maximum number of iteration reached before \"\n",
      "/home/joy/venv/lib/python3.8/site-packages/sklearn/linear_model/_stochastic_gradient.py:574: ConvergenceWarning: Maximum number of iteration reached before convergence. Consider increasing max_iter to improve the fit.\n",
      "  warnings.warn(\"Maximum number of iteration reached before \"\n",
      "/home/joy/venv/lib/python3.8/site-packages/sklearn/linear_model/_stochastic_gradient.py:574: ConvergenceWarning: Maximum number of iteration reached before convergence. Consider increasing max_iter to improve the fit.\n",
      "  warnings.warn(\"Maximum number of iteration reached before \"\n",
      "/home/joy/venv/lib/python3.8/site-packages/sklearn/linear_model/_stochastic_gradient.py:574: ConvergenceWarning: Maximum number of iteration reached before convergence. Consider increasing max_iter to improve the fit.\n",
      "  warnings.warn(\"Maximum number of iteration reached before \"\n",
      "/home/joy/venv/lib/python3.8/site-packages/sklearn/linear_model/_stochastic_gradient.py:574: ConvergenceWarning: Maximum number of iteration reached before convergence. Consider increasing max_iter to improve the fit.\n",
      "  warnings.warn(\"Maximum number of iteration reached before \"\n",
      "/home/joy/venv/lib/python3.8/site-packages/sklearn/linear_model/_stochastic_gradient.py:574: ConvergenceWarning: Maximum number of iteration reached before convergence. Consider increasing max_iter to improve the fit.\n",
      "  warnings.warn(\"Maximum number of iteration reached before \"\n",
      "/home/joy/venv/lib/python3.8/site-packages/sklearn/linear_model/_stochastic_gradient.py:574: ConvergenceWarning: Maximum number of iteration reached before convergence. Consider increasing max_iter to improve the fit.\n",
      "  warnings.warn(\"Maximum number of iteration reached before \"\n",
      "/home/joy/venv/lib/python3.8/site-packages/sklearn/linear_model/_stochastic_gradient.py:574: ConvergenceWarning: Maximum number of iteration reached before convergence. Consider increasing max_iter to improve the fit.\n",
      "  warnings.warn(\"Maximum number of iteration reached before \"\n",
      "/home/joy/venv/lib/python3.8/site-packages/sklearn/linear_model/_stochastic_gradient.py:574: ConvergenceWarning: Maximum number of iteration reached before convergence. Consider increasing max_iter to improve the fit.\n",
      "  warnings.warn(\"Maximum number of iteration reached before \"\n",
      "/home/joy/venv/lib/python3.8/site-packages/sklearn/linear_model/_stochastic_gradient.py:574: ConvergenceWarning: Maximum number of iteration reached before convergence. Consider increasing max_iter to improve the fit.\n",
      "  warnings.warn(\"Maximum number of iteration reached before \"\n",
      "/home/joy/venv/lib/python3.8/site-packages/sklearn/linear_model/_stochastic_gradient.py:574: ConvergenceWarning: Maximum number of iteration reached before convergence. Consider increasing max_iter to improve the fit.\n",
      "  warnings.warn(\"Maximum number of iteration reached before \"\n",
      "/home/joy/venv/lib/python3.8/site-packages/sklearn/linear_model/_stochastic_gradient.py:574: ConvergenceWarning: Maximum number of iteration reached before convergence. Consider increasing max_iter to improve the fit.\n",
      "  warnings.warn(\"Maximum number of iteration reached before \"\n",
      "/home/joy/venv/lib/python3.8/site-packages/sklearn/linear_model/_stochastic_gradient.py:574: ConvergenceWarning: Maximum number of iteration reached before convergence. Consider increasing max_iter to improve the fit.\n",
      "  warnings.warn(\"Maximum number of iteration reached before \"\n"
     ]
    },
    {
     "name": "stderr",
     "output_type": "stream",
     "text": [
      "/home/joy/venv/lib/python3.8/site-packages/sklearn/linear_model/_stochastic_gradient.py:574: ConvergenceWarning: Maximum number of iteration reached before convergence. Consider increasing max_iter to improve the fit.\n",
      "  warnings.warn(\"Maximum number of iteration reached before \"\n",
      "/home/joy/venv/lib/python3.8/site-packages/sklearn/linear_model/_stochastic_gradient.py:574: ConvergenceWarning: Maximum number of iteration reached before convergence. Consider increasing max_iter to improve the fit.\n",
      "  warnings.warn(\"Maximum number of iteration reached before \"\n",
      "/home/joy/venv/lib/python3.8/site-packages/sklearn/linear_model/_stochastic_gradient.py:574: ConvergenceWarning: Maximum number of iteration reached before convergence. Consider increasing max_iter to improve the fit.\n",
      "  warnings.warn(\"Maximum number of iteration reached before \"\n",
      "/home/joy/venv/lib/python3.8/site-packages/sklearn/linear_model/_stochastic_gradient.py:574: ConvergenceWarning: Maximum number of iteration reached before convergence. Consider increasing max_iter to improve the fit.\n",
      "  warnings.warn(\"Maximum number of iteration reached before \"\n",
      "/home/joy/venv/lib/python3.8/site-packages/sklearn/linear_model/_stochastic_gradient.py:574: ConvergenceWarning: Maximum number of iteration reached before convergence. Consider increasing max_iter to improve the fit.\n",
      "  warnings.warn(\"Maximum number of iteration reached before \"\n",
      "/home/joy/venv/lib/python3.8/site-packages/sklearn/linear_model/_stochastic_gradient.py:574: ConvergenceWarning: Maximum number of iteration reached before convergence. Consider increasing max_iter to improve the fit.\n",
      "  warnings.warn(\"Maximum number of iteration reached before \"\n",
      "/home/joy/venv/lib/python3.8/site-packages/sklearn/linear_model/_stochastic_gradient.py:574: ConvergenceWarning: Maximum number of iteration reached before convergence. Consider increasing max_iter to improve the fit.\n",
      "  warnings.warn(\"Maximum number of iteration reached before \"\n",
      "/home/joy/venv/lib/python3.8/site-packages/sklearn/linear_model/_stochastic_gradient.py:574: ConvergenceWarning: Maximum number of iteration reached before convergence. Consider increasing max_iter to improve the fit.\n",
      "  warnings.warn(\"Maximum number of iteration reached before \"\n",
      "/home/joy/venv/lib/python3.8/site-packages/sklearn/linear_model/_stochastic_gradient.py:574: ConvergenceWarning: Maximum number of iteration reached before convergence. Consider increasing max_iter to improve the fit.\n",
      "  warnings.warn(\"Maximum number of iteration reached before \"\n",
      "/home/joy/venv/lib/python3.8/site-packages/sklearn/linear_model/_stochastic_gradient.py:574: ConvergenceWarning: Maximum number of iteration reached before convergence. Consider increasing max_iter to improve the fit.\n",
      "  warnings.warn(\"Maximum number of iteration reached before \"\n",
      "/home/joy/venv/lib/python3.8/site-packages/sklearn/linear_model/_stochastic_gradient.py:574: ConvergenceWarning: Maximum number of iteration reached before convergence. Consider increasing max_iter to improve the fit.\n",
      "  warnings.warn(\"Maximum number of iteration reached before \"\n",
      "/home/joy/venv/lib/python3.8/site-packages/sklearn/linear_model/_stochastic_gradient.py:574: ConvergenceWarning: Maximum number of iteration reached before convergence. Consider increasing max_iter to improve the fit.\n",
      "  warnings.warn(\"Maximum number of iteration reached before \"\n",
      "/home/joy/venv/lib/python3.8/site-packages/sklearn/linear_model/_stochastic_gradient.py:574: ConvergenceWarning: Maximum number of iteration reached before convergence. Consider increasing max_iter to improve the fit.\n",
      "  warnings.warn(\"Maximum number of iteration reached before \"\n",
      "/home/joy/venv/lib/python3.8/site-packages/sklearn/linear_model/_stochastic_gradient.py:574: ConvergenceWarning: Maximum number of iteration reached before convergence. Consider increasing max_iter to improve the fit.\n",
      "  warnings.warn(\"Maximum number of iteration reached before \"\n",
      "/home/joy/venv/lib/python3.8/site-packages/sklearn/linear_model/_stochastic_gradient.py:574: ConvergenceWarning: Maximum number of iteration reached before convergence. Consider increasing max_iter to improve the fit.\n",
      "  warnings.warn(\"Maximum number of iteration reached before \"\n",
      "/home/joy/venv/lib/python3.8/site-packages/sklearn/linear_model/_stochastic_gradient.py:574: ConvergenceWarning: Maximum number of iteration reached before convergence. Consider increasing max_iter to improve the fit.\n",
      "  warnings.warn(\"Maximum number of iteration reached before \"\n",
      "/home/joy/venv/lib/python3.8/site-packages/sklearn/linear_model/_stochastic_gradient.py:574: ConvergenceWarning: Maximum number of iteration reached before convergence. Consider increasing max_iter to improve the fit.\n",
      "  warnings.warn(\"Maximum number of iteration reached before \"\n",
      "/home/joy/venv/lib/python3.8/site-packages/sklearn/linear_model/_stochastic_gradient.py:574: ConvergenceWarning: Maximum number of iteration reached before convergence. Consider increasing max_iter to improve the fit.\n",
      "  warnings.warn(\"Maximum number of iteration reached before \"\n",
      "/home/joy/venv/lib/python3.8/site-packages/sklearn/linear_model/_stochastic_gradient.py:574: ConvergenceWarning: Maximum number of iteration reached before convergence. Consider increasing max_iter to improve the fit.\n",
      "  warnings.warn(\"Maximum number of iteration reached before \"\n",
      "/home/joy/venv/lib/python3.8/site-packages/sklearn/linear_model/_stochastic_gradient.py:574: ConvergenceWarning: Maximum number of iteration reached before convergence. Consider increasing max_iter to improve the fit.\n",
      "  warnings.warn(\"Maximum number of iteration reached before \"\n",
      "/home/joy/venv/lib/python3.8/site-packages/sklearn/linear_model/_stochastic_gradient.py:574: ConvergenceWarning: Maximum number of iteration reached before convergence. Consider increasing max_iter to improve the fit.\n",
      "  warnings.warn(\"Maximum number of iteration reached before \"\n",
      "/home/joy/venv/lib/python3.8/site-packages/sklearn/linear_model/_stochastic_gradient.py:574: ConvergenceWarning: Maximum number of iteration reached before convergence. Consider increasing max_iter to improve the fit.\n",
      "  warnings.warn(\"Maximum number of iteration reached before \"\n",
      "/home/joy/venv/lib/python3.8/site-packages/sklearn/linear_model/_stochastic_gradient.py:574: ConvergenceWarning: Maximum number of iteration reached before convergence. Consider increasing max_iter to improve the fit.\n",
      "  warnings.warn(\"Maximum number of iteration reached before \"\n",
      "/home/joy/venv/lib/python3.8/site-packages/sklearn/linear_model/_stochastic_gradient.py:574: ConvergenceWarning: Maximum number of iteration reached before convergence. Consider increasing max_iter to improve the fit.\n",
      "  warnings.warn(\"Maximum number of iteration reached before \"\n",
      "/home/joy/venv/lib/python3.8/site-packages/sklearn/linear_model/_stochastic_gradient.py:574: ConvergenceWarning: Maximum number of iteration reached before convergence. Consider increasing max_iter to improve the fit.\n",
      "  warnings.warn(\"Maximum number of iteration reached before \"\n",
      "/home/joy/venv/lib/python3.8/site-packages/sklearn/linear_model/_stochastic_gradient.py:574: ConvergenceWarning: Maximum number of iteration reached before convergence. Consider increasing max_iter to improve the fit.\n",
      "  warnings.warn(\"Maximum number of iteration reached before \"\n",
      "/home/joy/venv/lib/python3.8/site-packages/sklearn/linear_model/_stochastic_gradient.py:574: ConvergenceWarning: Maximum number of iteration reached before convergence. Consider increasing max_iter to improve the fit.\n",
      "  warnings.warn(\"Maximum number of iteration reached before \"\n",
      "/home/joy/venv/lib/python3.8/site-packages/sklearn/linear_model/_stochastic_gradient.py:574: ConvergenceWarning: Maximum number of iteration reached before convergence. Consider increasing max_iter to improve the fit.\n",
      "  warnings.warn(\"Maximum number of iteration reached before \"\n",
      "/home/joy/venv/lib/python3.8/site-packages/sklearn/linear_model/_stochastic_gradient.py:574: ConvergenceWarning: Maximum number of iteration reached before convergence. Consider increasing max_iter to improve the fit.\n",
      "  warnings.warn(\"Maximum number of iteration reached before \"\n",
      "/home/joy/venv/lib/python3.8/site-packages/sklearn/linear_model/_stochastic_gradient.py:574: ConvergenceWarning: Maximum number of iteration reached before convergence. Consider increasing max_iter to improve the fit.\n",
      "  warnings.warn(\"Maximum number of iteration reached before \"\n"
     ]
    },
    {
     "name": "stderr",
     "output_type": "stream",
     "text": [
      "/home/joy/venv/lib/python3.8/site-packages/sklearn/linear_model/_stochastic_gradient.py:574: ConvergenceWarning: Maximum number of iteration reached before convergence. Consider increasing max_iter to improve the fit.\n",
      "  warnings.warn(\"Maximum number of iteration reached before \"\n",
      "/home/joy/venv/lib/python3.8/site-packages/sklearn/linear_model/_stochastic_gradient.py:574: ConvergenceWarning: Maximum number of iteration reached before convergence. Consider increasing max_iter to improve the fit.\n",
      "  warnings.warn(\"Maximum number of iteration reached before \"\n",
      "/home/joy/venv/lib/python3.8/site-packages/sklearn/linear_model/_stochastic_gradient.py:574: ConvergenceWarning: Maximum number of iteration reached before convergence. Consider increasing max_iter to improve the fit.\n",
      "  warnings.warn(\"Maximum number of iteration reached before \"\n",
      "/home/joy/venv/lib/python3.8/site-packages/sklearn/linear_model/_stochastic_gradient.py:574: ConvergenceWarning: Maximum number of iteration reached before convergence. Consider increasing max_iter to improve the fit.\n",
      "  warnings.warn(\"Maximum number of iteration reached before \"\n",
      "/home/joy/venv/lib/python3.8/site-packages/sklearn/linear_model/_stochastic_gradient.py:574: ConvergenceWarning: Maximum number of iteration reached before convergence. Consider increasing max_iter to improve the fit.\n",
      "  warnings.warn(\"Maximum number of iteration reached before \"\n",
      "/home/joy/venv/lib/python3.8/site-packages/sklearn/linear_model/_stochastic_gradient.py:574: ConvergenceWarning: Maximum number of iteration reached before convergence. Consider increasing max_iter to improve the fit.\n",
      "  warnings.warn(\"Maximum number of iteration reached before \"\n",
      "/home/joy/venv/lib/python3.8/site-packages/sklearn/linear_model/_stochastic_gradient.py:574: ConvergenceWarning: Maximum number of iteration reached before convergence. Consider increasing max_iter to improve the fit.\n",
      "  warnings.warn(\"Maximum number of iteration reached before \"\n",
      "/home/joy/venv/lib/python3.8/site-packages/sklearn/linear_model/_stochastic_gradient.py:574: ConvergenceWarning: Maximum number of iteration reached before convergence. Consider increasing max_iter to improve the fit.\n",
      "  warnings.warn(\"Maximum number of iteration reached before \"\n",
      "/home/joy/venv/lib/python3.8/site-packages/sklearn/linear_model/_stochastic_gradient.py:574: ConvergenceWarning: Maximum number of iteration reached before convergence. Consider increasing max_iter to improve the fit.\n",
      "  warnings.warn(\"Maximum number of iteration reached before \"\n",
      "/home/joy/venv/lib/python3.8/site-packages/sklearn/linear_model/_stochastic_gradient.py:574: ConvergenceWarning: Maximum number of iteration reached before convergence. Consider increasing max_iter to improve the fit.\n",
      "  warnings.warn(\"Maximum number of iteration reached before \"\n",
      "/home/joy/venv/lib/python3.8/site-packages/sklearn/linear_model/_stochastic_gradient.py:574: ConvergenceWarning: Maximum number of iteration reached before convergence. Consider increasing max_iter to improve the fit.\n",
      "  warnings.warn(\"Maximum number of iteration reached before \"\n",
      "/home/joy/venv/lib/python3.8/site-packages/sklearn/linear_model/_stochastic_gradient.py:574: ConvergenceWarning: Maximum number of iteration reached before convergence. Consider increasing max_iter to improve the fit.\n",
      "  warnings.warn(\"Maximum number of iteration reached before \"\n",
      "/home/joy/venv/lib/python3.8/site-packages/sklearn/linear_model/_stochastic_gradient.py:574: ConvergenceWarning: Maximum number of iteration reached before convergence. Consider increasing max_iter to improve the fit.\n",
      "  warnings.warn(\"Maximum number of iteration reached before \"\n",
      "/home/joy/venv/lib/python3.8/site-packages/sklearn/linear_model/_stochastic_gradient.py:574: ConvergenceWarning: Maximum number of iteration reached before convergence. Consider increasing max_iter to improve the fit.\n",
      "  warnings.warn(\"Maximum number of iteration reached before \"\n",
      "/home/joy/venv/lib/python3.8/site-packages/sklearn/linear_model/_stochastic_gradient.py:574: ConvergenceWarning: Maximum number of iteration reached before convergence. Consider increasing max_iter to improve the fit.\n",
      "  warnings.warn(\"Maximum number of iteration reached before \"\n",
      "/home/joy/venv/lib/python3.8/site-packages/sklearn/linear_model/_stochastic_gradient.py:574: ConvergenceWarning: Maximum number of iteration reached before convergence. Consider increasing max_iter to improve the fit.\n",
      "  warnings.warn(\"Maximum number of iteration reached before \"\n",
      "/home/joy/venv/lib/python3.8/site-packages/sklearn/linear_model/_stochastic_gradient.py:574: ConvergenceWarning: Maximum number of iteration reached before convergence. Consider increasing max_iter to improve the fit.\n",
      "  warnings.warn(\"Maximum number of iteration reached before \"\n",
      "/home/joy/venv/lib/python3.8/site-packages/sklearn/linear_model/_stochastic_gradient.py:574: ConvergenceWarning: Maximum number of iteration reached before convergence. Consider increasing max_iter to improve the fit.\n",
      "  warnings.warn(\"Maximum number of iteration reached before \"\n",
      "/home/joy/venv/lib/python3.8/site-packages/sklearn/linear_model/_stochastic_gradient.py:574: ConvergenceWarning: Maximum number of iteration reached before convergence. Consider increasing max_iter to improve the fit.\n",
      "  warnings.warn(\"Maximum number of iteration reached before \"\n",
      "/home/joy/venv/lib/python3.8/site-packages/sklearn/linear_model/_stochastic_gradient.py:574: ConvergenceWarning: Maximum number of iteration reached before convergence. Consider increasing max_iter to improve the fit.\n",
      "  warnings.warn(\"Maximum number of iteration reached before \"\n",
      "/home/joy/venv/lib/python3.8/site-packages/sklearn/linear_model/_stochastic_gradient.py:574: ConvergenceWarning: Maximum number of iteration reached before convergence. Consider increasing max_iter to improve the fit.\n",
      "  warnings.warn(\"Maximum number of iteration reached before \"\n",
      "/home/joy/venv/lib/python3.8/site-packages/sklearn/linear_model/_stochastic_gradient.py:574: ConvergenceWarning: Maximum number of iteration reached before convergence. Consider increasing max_iter to improve the fit.\n",
      "  warnings.warn(\"Maximum number of iteration reached before \"\n",
      "/home/joy/venv/lib/python3.8/site-packages/sklearn/linear_model/_stochastic_gradient.py:574: ConvergenceWarning: Maximum number of iteration reached before convergence. Consider increasing max_iter to improve the fit.\n",
      "  warnings.warn(\"Maximum number of iteration reached before \"\n",
      "/home/joy/venv/lib/python3.8/site-packages/sklearn/linear_model/_stochastic_gradient.py:574: ConvergenceWarning: Maximum number of iteration reached before convergence. Consider increasing max_iter to improve the fit.\n",
      "  warnings.warn(\"Maximum number of iteration reached before \"\n",
      "/home/joy/venv/lib/python3.8/site-packages/sklearn/linear_model/_stochastic_gradient.py:574: ConvergenceWarning: Maximum number of iteration reached before convergence. Consider increasing max_iter to improve the fit.\n",
      "  warnings.warn(\"Maximum number of iteration reached before \"\n",
      "/home/joy/venv/lib/python3.8/site-packages/sklearn/linear_model/_stochastic_gradient.py:574: ConvergenceWarning: Maximum number of iteration reached before convergence. Consider increasing max_iter to improve the fit.\n",
      "  warnings.warn(\"Maximum number of iteration reached before \"\n",
      "/home/joy/venv/lib/python3.8/site-packages/sklearn/linear_model/_stochastic_gradient.py:574: ConvergenceWarning: Maximum number of iteration reached before convergence. Consider increasing max_iter to improve the fit.\n",
      "  warnings.warn(\"Maximum number of iteration reached before \"\n",
      "/home/joy/venv/lib/python3.8/site-packages/sklearn/linear_model/_stochastic_gradient.py:574: ConvergenceWarning: Maximum number of iteration reached before convergence. Consider increasing max_iter to improve the fit.\n",
      "  warnings.warn(\"Maximum number of iteration reached before \"\n",
      "/home/joy/venv/lib/python3.8/site-packages/sklearn/linear_model/_stochastic_gradient.py:574: ConvergenceWarning: Maximum number of iteration reached before convergence. Consider increasing max_iter to improve the fit.\n",
      "  warnings.warn(\"Maximum number of iteration reached before \"\n",
      "/home/joy/venv/lib/python3.8/site-packages/sklearn/linear_model/_stochastic_gradient.py:574: ConvergenceWarning: Maximum number of iteration reached before convergence. Consider increasing max_iter to improve the fit.\n",
      "  warnings.warn(\"Maximum number of iteration reached before \"\n"
     ]
    },
    {
     "name": "stderr",
     "output_type": "stream",
     "text": [
      "/home/joy/venv/lib/python3.8/site-packages/sklearn/linear_model/_stochastic_gradient.py:574: ConvergenceWarning: Maximum number of iteration reached before convergence. Consider increasing max_iter to improve the fit.\n",
      "  warnings.warn(\"Maximum number of iteration reached before \"\n",
      "/home/joy/venv/lib/python3.8/site-packages/sklearn/linear_model/_stochastic_gradient.py:574: ConvergenceWarning: Maximum number of iteration reached before convergence. Consider increasing max_iter to improve the fit.\n",
      "  warnings.warn(\"Maximum number of iteration reached before \"\n",
      "/home/joy/venv/lib/python3.8/site-packages/sklearn/linear_model/_stochastic_gradient.py:574: ConvergenceWarning: Maximum number of iteration reached before convergence. Consider increasing max_iter to improve the fit.\n",
      "  warnings.warn(\"Maximum number of iteration reached before \"\n",
      "/home/joy/venv/lib/python3.8/site-packages/sklearn/linear_model/_stochastic_gradient.py:574: ConvergenceWarning: Maximum number of iteration reached before convergence. Consider increasing max_iter to improve the fit.\n",
      "  warnings.warn(\"Maximum number of iteration reached before \"\n",
      "/home/joy/venv/lib/python3.8/site-packages/sklearn/linear_model/_stochastic_gradient.py:574: ConvergenceWarning: Maximum number of iteration reached before convergence. Consider increasing max_iter to improve the fit.\n",
      "  warnings.warn(\"Maximum number of iteration reached before \"\n",
      "/home/joy/venv/lib/python3.8/site-packages/sklearn/linear_model/_stochastic_gradient.py:574: ConvergenceWarning: Maximum number of iteration reached before convergence. Consider increasing max_iter to improve the fit.\n",
      "  warnings.warn(\"Maximum number of iteration reached before \"\n",
      "/home/joy/venv/lib/python3.8/site-packages/sklearn/linear_model/_stochastic_gradient.py:574: ConvergenceWarning: Maximum number of iteration reached before convergence. Consider increasing max_iter to improve the fit.\n",
      "  warnings.warn(\"Maximum number of iteration reached before \"\n",
      "/home/joy/venv/lib/python3.8/site-packages/sklearn/linear_model/_stochastic_gradient.py:574: ConvergenceWarning: Maximum number of iteration reached before convergence. Consider increasing max_iter to improve the fit.\n",
      "  warnings.warn(\"Maximum number of iteration reached before \"\n",
      "/home/joy/venv/lib/python3.8/site-packages/sklearn/linear_model/_stochastic_gradient.py:574: ConvergenceWarning: Maximum number of iteration reached before convergence. Consider increasing max_iter to improve the fit.\n",
      "  warnings.warn(\"Maximum number of iteration reached before \"\n",
      "/home/joy/venv/lib/python3.8/site-packages/sklearn/linear_model/_stochastic_gradient.py:574: ConvergenceWarning: Maximum number of iteration reached before convergence. Consider increasing max_iter to improve the fit.\n",
      "  warnings.warn(\"Maximum number of iteration reached before \"\n",
      "/home/joy/venv/lib/python3.8/site-packages/sklearn/linear_model/_stochastic_gradient.py:574: ConvergenceWarning: Maximum number of iteration reached before convergence. Consider increasing max_iter to improve the fit.\n",
      "  warnings.warn(\"Maximum number of iteration reached before \"\n",
      "/home/joy/venv/lib/python3.8/site-packages/sklearn/linear_model/_stochastic_gradient.py:574: ConvergenceWarning: Maximum number of iteration reached before convergence. Consider increasing max_iter to improve the fit.\n",
      "  warnings.warn(\"Maximum number of iteration reached before \"\n",
      "/home/joy/venv/lib/python3.8/site-packages/sklearn/linear_model/_stochastic_gradient.py:574: ConvergenceWarning: Maximum number of iteration reached before convergence. Consider increasing max_iter to improve the fit.\n",
      "  warnings.warn(\"Maximum number of iteration reached before \"\n",
      "/home/joy/venv/lib/python3.8/site-packages/sklearn/linear_model/_stochastic_gradient.py:574: ConvergenceWarning: Maximum number of iteration reached before convergence. Consider increasing max_iter to improve the fit.\n",
      "  warnings.warn(\"Maximum number of iteration reached before \"\n",
      "/home/joy/venv/lib/python3.8/site-packages/sklearn/linear_model/_stochastic_gradient.py:574: ConvergenceWarning: Maximum number of iteration reached before convergence. Consider increasing max_iter to improve the fit.\n",
      "  warnings.warn(\"Maximum number of iteration reached before \"\n",
      "/home/joy/venv/lib/python3.8/site-packages/sklearn/linear_model/_stochastic_gradient.py:574: ConvergenceWarning: Maximum number of iteration reached before convergence. Consider increasing max_iter to improve the fit.\n",
      "  warnings.warn(\"Maximum number of iteration reached before \"\n",
      "/home/joy/venv/lib/python3.8/site-packages/sklearn/linear_model/_stochastic_gradient.py:574: ConvergenceWarning: Maximum number of iteration reached before convergence. Consider increasing max_iter to improve the fit.\n",
      "  warnings.warn(\"Maximum number of iteration reached before \"\n",
      "/home/joy/venv/lib/python3.8/site-packages/sklearn/linear_model/_stochastic_gradient.py:574: ConvergenceWarning: Maximum number of iteration reached before convergence. Consider increasing max_iter to improve the fit.\n",
      "  warnings.warn(\"Maximum number of iteration reached before \"\n",
      "/home/joy/venv/lib/python3.8/site-packages/sklearn/linear_model/_stochastic_gradient.py:574: ConvergenceWarning: Maximum number of iteration reached before convergence. Consider increasing max_iter to improve the fit.\n",
      "  warnings.warn(\"Maximum number of iteration reached before \"\n",
      "/home/joy/venv/lib/python3.8/site-packages/sklearn/linear_model/_stochastic_gradient.py:574: ConvergenceWarning: Maximum number of iteration reached before convergence. Consider increasing max_iter to improve the fit.\n",
      "  warnings.warn(\"Maximum number of iteration reached before \"\n",
      "/home/joy/venv/lib/python3.8/site-packages/sklearn/linear_model/_stochastic_gradient.py:574: ConvergenceWarning: Maximum number of iteration reached before convergence. Consider increasing max_iter to improve the fit.\n",
      "  warnings.warn(\"Maximum number of iteration reached before \"\n"
     ]
    },
    {
     "name": "stdout",
     "output_type": "stream",
     "text": [
      "{'alpha': 0.0001, 'loss': 'log', 'penalty': 'none'}\n"
     ]
    }
   ],
   "source": [
    "params = {\n",
    "    \"loss\" : [\"hinge\", \"log\", \"squared_hinge\", \"modified_huber\", \"perceptron\"],\n",
    "    \"alpha\" : [0.0001, 0.001, 0.01, 0.1],\n",
    "    \"penalty\" : [\"l2\", \"l1\", \"elasticnet\", \"none\"],\n",
    "}\n",
    "\n",
    "clf = SGDClassifier(max_iter=1000)\n",
    "grid = GridSearchCV(clf, param_grid=params, cv=10)\n",
    "\n",
    "\n",
    "grid.fit(X_train, y_train)\n",
    "\n",
    "print(grid.best_params_) "
   ]
  },
  {
   "cell_type": "code",
   "execution_count": 39,
   "id": "miniature-watershed",
   "metadata": {},
   "outputs": [
    {
     "name": "stdout",
     "output_type": "stream",
     "text": [
      "Accuracy: 0.80\n"
     ]
    }
   ],
   "source": [
    "grid_predictions = grid.predict(X_test) \n",
    "\n",
    "print('Accuracy: {:.2f}'.format(accuracy_score(y_test, grid_predictions)))"
   ]
  },
  {
   "cell_type": "code",
   "execution_count": null,
   "id": "higher-local",
   "metadata": {},
   "outputs": [],
   "source": []
  },
  {
   "cell_type": "code",
   "execution_count": null,
   "id": "chief-motivation",
   "metadata": {},
   "outputs": [],
   "source": []
  },
  {
   "cell_type": "code",
   "execution_count": 13,
   "id": "boring-journey",
   "metadata": {},
   "outputs": [],
   "source": [
    "# from https://www.kdnuggets.com/2019/09/explore-world-bioinformatics-machine-learning.html"
   ]
  },
  {
   "cell_type": "code",
   "execution_count": 40,
   "id": "suitable-happiness",
   "metadata": {},
   "outputs": [],
   "source": [
    "scaler = StandardScaler()\n",
    "scaler.fit(X_train)\n",
    "X_train = scaler.transform(X_train)\n",
    "X_test = scaler.transform(X_test)"
   ]
  },
  {
   "cell_type": "code",
   "execution_count": 41,
   "id": "beneficial-ordinance",
   "metadata": {},
   "outputs": [
    {
     "name": "stdout",
     "output_type": "stream",
     "text": [
      "Fitting 5 folds for each of 40 candidates, totalling 200 fits\n"
     ]
    },
    {
     "data": {
      "text/plain": [
       "GridSearchCV(estimator=SVC(), n_jobs=-1,\n",
       "             param_grid=[{'C': [1, 10, 100, 1000], 'kernel': ['linear']},\n",
       "                         {'C': [1, 10, 100, 1000],\n",
       "                          'gamma': [0.1, 0.2, 0.3, 0.4, 0.5, 0.6, 0.7, 0.8,\n",
       "                                    0.9],\n",
       "                          'kernel': ['rbf']}],\n",
       "             verbose=1)"
      ]
     },
     "execution_count": 41,
     "metadata": {},
     "output_type": "execute_result"
    }
   ],
   "source": [
    "from sklearn.model_selection import GridSearchCV\n",
    "from sklearn.svm import SVC\n",
    "parameters = [{'C': [1, 10, 100, 1000], 'kernel': ['linear']},\n",
    "              {'C': [1, 10, 100, 1000], 'kernel': ['rbf'], 'gamma': [0.1, 0.2, 0.3, 0.4, 0.5, 0.6, 0.7, 0.8, 0.9]}]\n",
    "search = GridSearchCV(SVC(), parameters, n_jobs=-1, verbose=1)\n",
    "search.fit(X_train, y_train)"
   ]
  },
  {
   "cell_type": "code",
   "execution_count": 42,
   "id": "turkish-monitor",
   "metadata": {},
   "outputs": [
    {
     "data": {
      "text/plain": [
       "SVC(C=1, gamma=0.1)"
      ]
     },
     "execution_count": 42,
     "metadata": {},
     "output_type": "execute_result"
    }
   ],
   "source": [
    "best_parameters = search.best_estimator_\n",
    "best_parameters"
   ]
  },
  {
   "cell_type": "code",
   "execution_count": 43,
   "id": "academic-estate",
   "metadata": {},
   "outputs": [
    {
     "data": {
      "text/plain": [
       "SVC(C=1, gamma=0.1, kernel='linear')"
      ]
     },
     "execution_count": 43,
     "metadata": {},
     "output_type": "execute_result"
    }
   ],
   "source": [
    "model = SVC(C=1, cache_size=200, class_weight=None, coef0=0.0,\n",
    "    decision_function_shape='ovr', degree=3, gamma=0.1,#gamma='auto_deprecated',\n",
    "    kernel='linear', max_iter=-1, probability=False, random_state=None,\n",
    "    shrinking=True, tol=0.001, verbose=False)\n",
    "    \n",
    "model.fit(X_train, y_train)"
   ]
  },
  {
   "cell_type": "code",
   "execution_count": 44,
   "id": "genuine-hartford",
   "metadata": {},
   "outputs": [],
   "source": [
    "y_pred=model.predict(X_test)"
   ]
  },
  {
   "cell_type": "code",
   "execution_count": 45,
   "id": "matched-arbor",
   "metadata": {},
   "outputs": [
    {
     "name": "stdout",
     "output_type": "stream",
     "text": [
      "Accuracy Score: 0.81\n"
     ]
    }
   ],
   "source": [
    "from sklearn.metrics import accuracy_score, confusion_matrix\n",
    "from sklearn import metrics\n",
    "print('Accuracy Score:',round(accuracy_score(y_test, y_pred),2))\n",
    "#confusion matrix\n",
    "cm = confusion_matrix(y_test, y_pred)"
   ]
  },
  {
   "cell_type": "code",
   "execution_count": 46,
   "id": "racial-principle",
   "metadata": {},
   "outputs": [
    {
     "data": {
      "text/plain": [
       "Text(0.5, 257.44, 'Predicted label')"
      ]
     },
     "execution_count": 46,
     "metadata": {},
     "output_type": "execute_result"
    },
    {
     "data": {
      "image/png": "[encoded data removed]",
      "text/plain": [
       "<Figure size 432x288 with 1 Axes>"
      ]
     },
     "metadata": {
      "needs_background": "light"
     },
     "output_type": "display_data"
    },
    {
     "data": {
      "image/png": "[encoded data removed]",
      "text/plain": [
       "<Figure size 432x288 with 2 Axes>"
      ]
     },
     "metadata": {
      "needs_background": "light"
     },
     "output_type": "display_data"
    }
   ],
   "source": [
    "class_names=[1,2,3]\n",
    "fig, ax = plt.subplots()\n",
    "from sklearn.metrics import confusion_matrix\n",
    "import seaborn as sns\n",
    "cm = confusion_matrix(y_test, y_pred)\n",
    "class_names=['ALL', 'AML']\n",
    "fig, ax = plt.subplots()\n",
    "tick_marks = np.arange(len(class_names))\n",
    "plt.xticks(tick_marks, class_names)\n",
    "plt.yticks(tick_marks, class_names)\n",
    "sns.heatmap(pd.DataFrame(cm), annot=True, cmap=\"viridis\" ,fmt='g')\n",
    "ax.xaxis.set_label_position(\"top\")\n",
    "plt.tight_layout()\n",
    "plt.title('Confusion matrix', y=1.1)\n",
    "plt.ylabel('Actual label')\n",
    "plt.xlabel('Predicted label')"
   ]
  },
  {
   "cell_type": "code",
   "execution_count": null,
   "id": "controversial-individual",
   "metadata": {},
   "outputs": [],
   "source": []
  }
 ],
 "metadata": {
  "kernelspec": {
   "display_name": "Python 3",
   "language": "python",
   "name": "python3"
  },
  "language_info": {
   "codemirror_mode": {
    "name": "ipython",
    "version": 3
   },
   "file_extension": ".py",
   "mimetype": "text/x-python",
   "name": "python",
   "nbconvert_exporter": "python",
   "pygments_lexer": "ipython3",
   "version": "3.8.5"
  }
 },
 "nbformat": 4,
 "nbformat_minor": 5
}
